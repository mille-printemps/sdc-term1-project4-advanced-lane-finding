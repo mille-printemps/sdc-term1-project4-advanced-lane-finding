{
 "cells": [
  {
   "cell_type": "markdown",
   "metadata": {
    "deletable": true,
    "editable": true
   },
   "source": [
    "# Project: Advanced Lane Finding\n",
    "\n"
   ]
  },
  {
   "cell_type": "markdown",
   "metadata": {
    "deletable": true,
    "editable": true
   },
   "source": [
    "## Imports, named constans and parameters\n"
   ]
  },
  {
   "cell_type": "code",
   "execution_count": null,
   "metadata": {
    "collapsed": true,
    "deletable": true,
    "editable": true
   },
   "outputs": [],
   "source": [
    "import os\n",
    "import cv2\n",
    "import glob\n",
    "import numpy as np\n",
    "import matplotlib.pyplot as plt\n",
    "import matplotlib.image as mpimg\n",
    "%matplotlib inline\n",
    "\n",
    "# Named constants\n",
    "CHESSBOARD_IMAGE = 'camera_cal/calibration2.jpg'\n",
    "TEST_IMAGE = 'test_images/ztest8.jpg'\n",
    "#TEST_IMAGE = 'test_images/straight_lines2.jpg'\n",
    "OUTPUT_IMAGE_DIR = 'output_images'\n",
    "\n",
    "# Parameters\n",
    "# Boxes in the chessboard\n",
    "NX = 9\n",
    "NY = 6\n",
    "\n",
    "# Lane width and height in pixels\n",
    "X_PIXELS = 600\n",
    "Y_PIXELS = 720\n",
    "\n",
    "# Meters per pixel in x and y dimension\n",
    "X_METERS_PER_PIXEL = 3.7/X_PIXELS     \n",
    "Y_METERS_PER_PIXEL = 30/Y_PIXELS\n",
    "\n",
    "# Horizontal and vertical center in meters\n",
    "H_CENTER = (1280/2) * X_METERS_PER_PIXEL\n",
    "V_CENTER = (720/2) * Y_METERS_PER_PIXEL\n"
   ]
  },
  {
   "cell_type": "markdown",
   "metadata": {
    "deletable": true,
    "editable": true
   },
   "source": [
    "## Step 1\n",
    "\n",
    "* Compute the camera calibration matrix and distortion coefficients given a set of chessboard images.\n",
    "* Apply a distortion correction to raw images.\n",
    "\n",
    "### Step 1 Functions\n"
   ]
  },
  {
   "cell_type": "code",
   "execution_count": null,
   "metadata": {
    "collapsed": true,
    "deletable": true,
    "editable": true
   },
   "outputs": [],
   "source": [
    "def collectCorners(imageFiles, nx, ny):\n",
    "    '''\n",
    "    Collect object points and image points from the chessboard images\n",
    "    '''\n",
    "    objPoints = []\n",
    "    imagePoints = []\n",
    "\n",
    "    objPoint = np.zeros((ny*nx,3), np.float32)\n",
    "    objPoint[:,:2] = np.mgrid[0:nx, 0:ny].T.reshape(-1,2)\n",
    "    \n",
    "    for imageFile in imageFiles:\n",
    "        image = mpimg.imread(imageFile)\n",
    "        gray = cv2.cvtColor(image, cv2.COLOR_RGB2GRAY)\n",
    "        ret, corners = cv2.findChessboardCorners(gray, (nx,ny), None)\n",
    "        if ret == True:\n",
    "            objPoints.append(objPoint)\n",
    "            imagePoints.append(corners)\n",
    "            \n",
    "    return objPoints,imagePoints\n",
    "\n",
    "def undistort(image, objPoints, imagePoints):\n",
    "    '''\n",
    "    Create an undistorted image given the object points and image points\n",
    "    '''\n",
    "    ret, mtx, dist, rvecs, tvecs = cv2.calibrateCamera(objPoints, imagePoints, (image.shape[1], image.shape[0]), None, None)\n",
    "    return cv2.undistort(image, mtx, dist, None, mtx)"
   ]
  },
  {
   "cell_type": "markdown",
   "metadata": {
    "deletable": true,
    "editable": true
   },
   "source": [
    "### Step 1 Test\n",
    "\n",
    "* Camera calibration\n",
    "* Undistortion of an image\n"
   ]
  },
  {
   "cell_type": "code",
   "execution_count": null,
   "metadata": {
    "collapsed": true,
    "deletable": true,
    "editable": true
   },
   "outputs": [],
   "source": [
    "imageFiles = glob.glob('camera_cal/*.jpg')\n",
    "objPoints,imagePoints = collectCorners(imageFiles, NX, NY)"
   ]
  },
  {
   "cell_type": "code",
   "execution_count": null,
   "metadata": {
    "collapsed": false,
    "deletable": true,
    "editable": true
   },
   "outputs": [],
   "source": [
    "chessboard = mpimg.imread(CHESSBOARD_IMAGE)\n",
    "undistorted_chessboard = undistort(chessboard, objPoints, imagePoints)\n",
    "\n",
    "fig, (ax1, ax2) = plt.subplots(1, 2, figsize=(20, 10))\n",
    "fig.tight_layout()\n",
    "ax1.imshow(chessboard, cmap='gray')\n",
    "ax1.set_title('Original Image', fontsize=20)\n",
    "ax2.imshow(undistorted_chessboard, cmap='gray')\n",
    "ax2.set_title('Undistorted Image', fontsize=20)\n",
    "\n",
    "fig.savefig(os.path.join(OUTPUT_IMAGE_DIR, 'undistorted_chessboard.jpg'))"
   ]
  },
  {
   "cell_type": "code",
   "execution_count": null,
   "metadata": {
    "collapsed": false,
    "deletable": true,
    "editable": true,
    "scrolled": true
   },
   "outputs": [],
   "source": [
    "image = mpimg.imread(TEST_IMAGE)\n",
    "undistorted = undistort(image, objPoints, imagePoints)\n",
    "\n",
    "fig, (ax1, ax2) = plt.subplots(1, 2, figsize=(20, 10))\n",
    "fig.tight_layout()\n",
    "ax1.imshow(image, cmap='gray')\n",
    "ax1.set_title('Original Image', fontsize=20)\n",
    "ax2.imshow(undistorted, cmap='gray')\n",
    "ax2.set_title('Undistorted Image', fontsize=20)\n",
    "\n",
    "fig.savefig(os.path.join(OUTPUT_IMAGE_DIR, 'undistorted.jpg'))"
   ]
  },
  {
   "cell_type": "markdown",
   "metadata": {
    "deletable": true,
    "editable": true
   },
   "source": [
    "## Step 2\n",
    "\n",
    "* Create a thresholded binary image using color transforms and gradients.\n",
    "\n",
    "### Step 2 Functions\n"
   ]
  },
  {
   "cell_type": "code",
   "execution_count": null,
   "metadata": {
    "collapsed": true,
    "deletable": true,
    "editable": true
   },
   "outputs": [],
   "source": [
    "def thresholdColorGradient(undistorted, sThreshold=(130,255), xThreshold=(15,100)):\n",
    "    '''\n",
    "    Create thresholded binary images using color transforms and gradients given the undistorted image and thesholds\n",
    "    '''\n",
    "    # Convert to HLS color space and separate the S channel\n",
    "    hls = cv2.cvtColor(undistorted, cv2.COLOR_RGB2HLS).astype(np.float)\n",
    "    lChannel = hls[:,:,1]\n",
    "    sChannel = hls[:,:,2]\n",
    "\n",
    "    # Take the derivative in x using the Sobel operator\n",
    "    # Absolute x derivative to accentuate lines away from horizontal\n",
    "    sobelX = cv2.Sobel(lChannel, cv2.CV_64F, 1, 0)\n",
    "    absSobelX = np.absolute(sobelX)\n",
    "    xSobel = np.uint8(255 * absSobelX/np.max(absSobelX))\n",
    "\n",
    "    # Threshold x gradient\n",
    "    xBinary = np.zeros_like(xSobel)\n",
    "    xBinary[(xThreshold[0] <= xSobel) & (xSobel <= xThreshold[1])] = 1\n",
    "\n",
    "    # Threshold color channel\n",
    "    sBinary = np.zeros_like(sChannel)\n",
    "    sBinary[(sThreshold[0] <= sChannel) & (sChannel <= sThreshold[1])] = 1\n",
    "\n",
    "    # Stack each channel to view their individual contributions in green and blue respectively\n",
    "    colorBinary = np.dstack((np.zeros_like(xBinary), xBinary, sBinary))\n",
    "\n",
    "    # Combine the two binary thresholds\n",
    "    combinedBinary = np.zeros_like(xBinary)\n",
    "    combinedBinary[(sBinary == 1) | (xBinary == 1)] = 1\n",
    "\n",
    "    return combinedBinary,colorBinary"
   ]
  },
  {
   "cell_type": "markdown",
   "metadata": {
    "deletable": true,
    "editable": true
   },
   "source": [
    "### Step 2 Test\n",
    "\n",
    "* Creation of thresholded binary images\n"
   ]
  },
  {
   "cell_type": "code",
   "execution_count": null,
   "metadata": {
    "collapsed": false,
    "deletable": true,
    "editable": true
   },
   "outputs": [],
   "source": [
    "combinedBinary,colorBinary = thresholdColorGradient(undistorted)\n",
    "\n",
    "fig, (ax1, ax2) = plt.subplots(1, 2, figsize=(20,10))\n",
    "ax2.set_title('Combined S channel and gradient thresholds', fontsize=20)\n",
    "ax2.imshow(combinedBinary, cmap='gray')\n",
    "\n",
    "ax1.set_title('Stacked thresholds', fontsize=20)\n",
    "ax1.imshow(colorBinary)\n",
    "\n",
    "fig.savefig(os.path.join(OUTPUT_IMAGE_DIR, 'binary.jpg'))"
   ]
  },
  {
   "cell_type": "markdown",
   "metadata": {
    "deletable": true,
    "editable": true
   },
   "source": [
    "## Step 3\n",
    "\n",
    "* Set a region where a perspective transform is applied. The region is a fixed one at this point.\n",
    "* Apply the perspective transform to rectify binary image.\n"
   ]
  },
  {
   "cell_type": "code",
   "execution_count": null,
   "metadata": {
    "collapsed": false,
    "deletable": true,
    "editable": true,
    "scrolled": false
   },
   "outputs": [],
   "source": [
    "imageSize = (combinedBinary.shape[1], combinedBinary.shape[0]) \n",
    "\n",
    "srcUpperLeft = [580, 460] #[590, 460]\n",
    "srcLowerLeft = [210, imageSize[1]]\n",
    "srcLowerRight = [1120, imageSize[1]] # [1120, ]\n",
    "srcUpperRight = [725, 460] #[690, 460] # [705, ]\n",
    "\n",
    "#srcUpperLeft = [(imageSize[0] / 2) - 55, imageSize[1] / 2 + 100]\n",
    "#srcLowerLeft = [((imageSize[0] / 6) - 10), imageSize[1]]\n",
    "#srcLowerRight = [(imageSize[0] * 5 / 6) + 60, imageSize[1]]\n",
    "#srcUpperRight = [(imageSize[0] / 2 + 55), imageSize[1] / 2 + 100]\n",
    "\n",
    "dstUpperLeft = [(imageSize[0] / 4), 0]\n",
    "dstLowerLeft = [(imageSize[0] / 4), imageSize[1]]\n",
    "dstLowerRight = [(imageSize[0] * 3 / 4), imageSize[1]]\n",
    "dstUpperRight = [(imageSize[0] * 3 / 4), 0]\n",
    "\n",
    "plt.imshow(combinedBinary, cmap='gray')\n",
    "plt.plot(srcUpperLeft[0],srcUpperLeft[1],\".\")\n",
    "plt.plot(srcLowerLeft[0], srcLowerLeft[1], \".\")\n",
    "plt.plot(srcLowerRight[0], srcLowerRight[1], \".\")\n",
    "plt.plot(srcUpperRight[0],srcUpperRight[1],\".\")"
   ]
  },
  {
   "cell_type": "markdown",
   "metadata": {
    "deletable": true,
    "editable": true
   },
   "source": [
    "### Step 3 Functions\n"
   ]
  },
  {
   "cell_type": "code",
   "execution_count": null,
   "metadata": {
    "collapsed": false,
    "deletable": true,
    "editable": true
   },
   "outputs": [],
   "source": [
    "def warp(undistorted):\n",
    "    '''\n",
    "    Apply the perspective transform to the undistorted binary image\n",
    "    Return the inverse perspective transform matrix as well as the transformed image\n",
    "    '''\n",
    "    # The source region determined above\n",
    "    src = np.float32(\n",
    "        [srcUpperLeft,\n",
    "         srcLowerLeft,\n",
    "         srcLowerRight,\n",
    "         srcUpperRight])\n",
    "    \n",
    "    # The destination region\n",
    "    dst = np.float32(\n",
    "        [dstUpperLeft,\n",
    "         dstLowerLeft,\n",
    "         dstLowerRight,\n",
    "         dstUpperRight])\n",
    "    \n",
    "    # Calculate the perspective transform matrix given src and dst points\n",
    "    # Calculate the inverse perspective transform matrix given src and dst points\n",
    "    # Warp the image\n",
    "    imageSize = (undistorted.shape[1], undistorted.shape[0])\n",
    "    perspective = cv2.getPerspectiveTransform(src, dst)\n",
    "    inversePerspective = cv2.getPerspectiveTransform(dst, src)\n",
    "    warped = cv2.warpPerspective(undistorted, perspective, imageSize, flags=cv2.INTER_LINEAR)\n",
    "    \n",
    "    return warped, inversePerspective"
   ]
  },
  {
   "cell_type": "markdown",
   "metadata": {
    "deletable": true,
    "editable": true
   },
   "source": [
    "### Step 3 Test\n",
    "\n",
    "* The perspective transform to the undistorted binary image\n"
   ]
  },
  {
   "cell_type": "code",
   "execution_count": null,
   "metadata": {
    "collapsed": false,
    "deletable": true,
    "editable": true,
    "scrolled": true
   },
   "outputs": [],
   "source": [
    "warped, inversePerspective = warp(combinedBinary)\n",
    "\n",
    "fig, (ax1, ax2) = plt.subplots(1, 2, figsize=(20, 10))\n",
    "fig.tight_layout()\n",
    "\n",
    "color = 'red'\n",
    "linewidth = 3\n",
    "\n",
    "ax1.imshow(combinedBinary, cmap='gray')\n",
    "ax1.plot([srcLowerLeft[0], srcUpperLeft[0]], [srcLowerLeft[1], srcUpperLeft[1]], color=color, linewidth=linewidth)\n",
    "ax1.plot([srcLowerRight[0], srcUpperRight[0]], [srcLowerRight[1], srcUpperRight[1]], color=color, linewidth=linewidth)\n",
    "ax1.plot([srcUpperLeft[0], srcUpperRight[0]], [srcUpperLeft[1], srcUpperRight[1]], color=color, linewidth=linewidth)\n",
    "ax1.set_title('Original Image', fontsize=20)\n",
    "\n",
    "ax2.imshow(warped, cmap='gray')\n",
    "ax2.set_title('Undistorted and Warped Image', fontsize=20)\n",
    "ax2.plot([dstLowerLeft[0], dstUpperLeft[0]], [dstLowerLeft[1], dstUpperLeft[1]], color=color, linewidth=linewidth)\n",
    "ax2.plot([dstLowerRight[0], dstUpperRight[0]], [dstLowerRight[1], dstUpperRight[1]], color=color, linewidth=linewidth)\n",
    "\n",
    "fig.savefig(os.path.join(OUTPUT_IMAGE_DIR, 'warped_binary.jpg'))"
   ]
  },
  {
   "cell_type": "markdown",
   "metadata": {
    "deletable": true,
    "editable": true
   },
   "source": [
    "## Step 4\n",
    "\n",
    "* Check a histogram of pixels of the undistorted binary image.\n",
    "* Detect lane pixels and fit to find the lane boundary.\n",
    "* Determine the curvature of the lane and vehicle position with respect to center.\n"
   ]
  },
  {
   "cell_type": "code",
   "execution_count": null,
   "metadata": {
    "collapsed": false,
    "deletable": true,
    "editable": true,
    "scrolled": true
   },
   "outputs": [],
   "source": [
    "histogram = np.sum(warped[warped.shape[0]//2:,:], axis=0)\n",
    "plt.plot(histogram)"
   ]
  },
  {
   "cell_type": "markdown",
   "metadata": {
    "deletable": true,
    "editable": true
   },
   "source": [
    "### Step 4 Functions\n"
   ]
  },
  {
   "cell_type": "code",
   "execution_count": null,
   "metadata": {
    "collapsed": false,
    "deletable": true,
    "editable": true
   },
   "outputs": [],
   "source": [
    "# Functions to calculate radii of curvature\n",
    "\n",
    "def curveRadius(fitted, yValue, Y_METERS_PER_PIXEL):\n",
    "    return ((1 + (2 * fitted[0] * yValue * Y_METERS_PER_PIXEL + fitted[1])**2)**1.5) / np.absolute(2 * fitted[0])\n",
    "\n",
    "\n",
    "def polynomial(fitted, plotY):\n",
    "    return fitted[0] * plotY**2 + fitted[1] * plotY + fitted[2]\n",
    "\n",
    "\n",
    "def measureCarvature(leftX, leftY, rightX, rightY, plotY):\n",
    "    '''\n",
    "    Calculate radii of curvature in meters\n",
    "    '''    \n",
    "    # Fit polynomials to x,y\n",
    "    leftFit = np.polyfit(leftY * Y_METERS_PER_PIXEL, leftX * X_METERS_PER_PIXEL, 2)\n",
    "    rightFit = np.polyfit(rightY * Y_METERS_PER_PIXEL, rightX * X_METERS_PER_PIXEL, 2)\n",
    "    \n",
    "    # Calculate the vehicle potision from the center\n",
    "    # Calculate the vertical and horizontal center as the lane center\n",
    "    # Then calculate the vehicle position\n",
    "    # Negative value: left from center\n",
    "    # Positive value: right from center\n",
    "    left = polynomial(leftFit, V_CENTER)\n",
    "    right = polynomial(rightFit, V_CENTER)\n",
    "    position = H_CENTER - ((left + right)/2.0)\n",
    "    \n",
    "    # Calculate the radii of curvature in meters\n",
    "    yValue = np.max(plotY)    \n",
    "    leftCurveRadius = curveRadius(leftFit, yValue, Y_METERS_PER_PIXEL)\n",
    "    rightCurveRadius = curveRadius(rightFit, yValue, Y_METERS_PER_PIXEL)\n",
    "    \n",
    "    return leftCurveRadius, rightCurveRadius, position\n",
    "\n",
    "\n",
    "# Function to find lanes\n",
    "\n",
    "def needsFullScan(yes):\n",
    "    '''\n",
    "    Flag to see if a full scan of a frame is needed\n",
    "    '''\n",
    "    needsFullScan.yes = yes\n",
    "    \n",
    "    \n",
    "def fitted(leftFit, rightFit, leftX, leftY, rightX, rightY):\n",
    "    '''\n",
    "    Store the coefficients of the polynomials\n",
    "    '''\n",
    "    fitted.leftFit = leftFit\n",
    "    fitted.rightFit = rightFit\n",
    "    fitted.leftX = leftX\n",
    "    fitted.leftY = leftY\n",
    "    fitted.rightX = rightX\n",
    "    fitted.rightY = rightY\n",
    "    \n",
    "def measured(leftCurveRadius, rightCurveRadius, position):\n",
    "    '''\n",
    "    Store the left and right radii of curvature\n",
    "    '''\n",
    "    measured.leftCurveRadius = leftCurveRadius\n",
    "    measured.rightCurveRadius = rightCurveRadius\n",
    "    measured.position = position\n",
    "\n",
    "\n",
    "def validated(leftFit, rightFit, leftCurveRadius, rightCurveRadius):\n",
    "    '''\n",
    "    Validate the fits of the polynomials and radii\n",
    "    '''\n",
    "    validated.bad\n",
    "    \n",
    "    prevLeftFit = fitted.leftFit\n",
    "    prevRightFit = fitted.rightFit\n",
    "    prevLeftCurveRadius = measured.leftCurveRadius\n",
    "    prevRightCurveRadius = measured.rightCurveRadius\n",
    "    \n",
    "    # In case that the full scan is done\n",
    "    if len(prevLeftFit) == 0 and len(prevRightFit) == 0 and \\\n",
    "            prevLeftCurveRadius == 0 and prevRightCurveRadius == 0:\n",
    "        return True\n",
    "        #return leftFit, rightFit, leftCurveRadius, rightCurveRadius, position\n",
    "\n",
    "    # Otherwise\n",
    "    diff = 30 #30\n",
    "    leftFitDiff = abs(prevLeftFit[2] - leftFit[2])\n",
    "    rightFitDiff = abs(prevRightFit[2] - rightFit[2])\n",
    "    goodFit = (leftFitDiff < diff) and (rightFitDiff < diff)\n",
    "    \n",
    "    print('fit:')\n",
    "    print(prevLeftFit[2], leftFit[2], prevLeftFit[2] - leftFit[2])\n",
    "    print(prevRightFit[2], rightFit[2], prevRightFit[2] - rightFit[2])\n",
    "    \n",
    "    ratio = 100\n",
    "    minLeftCurveRadius = prevLeftCurveRadius/ratio\n",
    "    maxLeftCurveRadius = prevLeftCurveRadius * ratio\n",
    "    minRightCurveRadius = prevRightCurveRadius/ratio\n",
    "    maxRightCurveRadius = prevRightCurveRadius * ratio\n",
    "    goodRadius = ((minLeftCurveRadius < leftCurveRadius) and (leftCurveRadius < maxLeftCurveRadius)) and \\\n",
    "                    ((minRightCurveRadius < rightCurveRadius) and (rightCurveRadius < maxRightCurveRadius))\n",
    "    \n",
    "    print('radius:')\n",
    "    print(prevLeftCurveRadius/ratio, leftCurveRadius, prevLeftCurveRadius * ratio)\n",
    "    print(prevRightCurveRadius/ratio, rightCurveRadius, prevRightCurveRadius * ratio)\n",
    "    \n",
    "    print(goodFit)\n",
    "    print(goodRadius)\n",
    "    \n",
    "    maxBadValidations = 4 #3\n",
    "    if not goodFit or not goodRadius:  \n",
    "    #if not goodFit:\n",
    "        validated.bad += 1\n",
    "        \n",
    "        if maxBadValidations < validated.bad:\n",
    "            validated.bad = 0\n",
    "            needsFullScan.yes = True\n",
    "\n",
    "        return False\n",
    "        #return prevLeftFit, prevRightFit, prevLeftCurveRadius, prevRightCurveRadius, prevPosition\n",
    "    \n",
    "    validated.bad = 0\n",
    "    return True\n",
    "    #return leftFit, rightFit, leftCurveRadius, rightCurveRadius, position\n",
    "    \n",
    "    \n",
    "def nonzeroIndices(lowX, highX, lowY, highY, nonzeroX, nonzeroY):\n",
    "    '''\n",
    "    Return indices of nonzero pixels given the low and high indices\n",
    "    '''\n",
    "    return ((lowY <= nonzeroY) & (nonzeroY < highY) & (lowX <= nonzeroX) & (nonzeroX < highX)).nonzero()[0]\n",
    "\n",
    "\n",
    "def laneIndices(fitted, nonzeroX, nonzeroY, margin):\n",
    "    '''\n",
    "    Return indices around the plynomials given the margin\n",
    "    '''\n",
    "    def laneIndex(fitted, nonzeroX, nonzeroY, margin):\n",
    "        return (((fitted[0]*(nonzeroY**2) + fitted[1]*nonzeroY + fitted[2] - margin) < nonzeroX) &\n",
    "            (nonzeroX < (fitted[0]*(nonzeroY**2) + fitted[1]*nonzeroY + fitted[2] + margin)))\n",
    "    \n",
    "    leftLaneIndices = laneIndex(fitted.leftFit, nonzeroX, nonzeroY, margin)\n",
    "    rightLaneIndices = laneIndex(fitted.rightFit, nonzeroX, nonzeroY, margin)\n",
    "    \n",
    "    return leftLaneIndices, rightLaneIndices\n",
    "\n",
    "\n",
    "def laneFits(fitted, plotY):\n",
    "    '''\n",
    "    Calculate the value of the polynomials\n",
    "    '''\n",
    "    leftFit = polynomial(fitted.leftFit, plotY)\n",
    "    rightFit = polynomial(fitted.rightFit, plotY)\n",
    "    \n",
    "    return leftFit, rightFit\n",
    "\n",
    "\n",
    "def findLanes(warped, numberOfWindows=9, windowMargin=70, minPixels=50): #70\n",
    "    '''\n",
    "    Find lanes in the undistorted binary image using the sliding window\n",
    "    '''\n",
    "    # Left and right lane pixel indices\n",
    "    leftLaneIndices = []\n",
    "    rightLaneIndices = []\n",
    "    \n",
    "    # Left and right lane pixel positions\n",
    "    leftX = []\n",
    "    leftY = []\n",
    "    rightX = []\n",
    "    rightY = []\n",
    "      \n",
    "    # Identify the x and y positions of all nonzero pixels in the image first\n",
    "    nonzero = warped.nonzero()\n",
    "    nonzeroY = np.array(nonzero[0])\n",
    "    nonzeroX = np.array(nonzero[1])\n",
    "    \n",
    "    # In case of the first frame of a video or validation failure\n",
    "    if needsFullScan.yes:\n",
    "        print('full scan')\n",
    "        # Take a histogram of the bottom half of the image\n",
    "        histogram = np.sum(warped[warped.shape[0]//2:,:], axis=0)\n",
    "        \n",
    "        # Find the peak of the left and right halves of the histogram\n",
    "        midPoint = np.int(histogram.shape[0]/2)\n",
    "        leftBaseX = np.argmax(histogram[:midPoint])\n",
    "        rightBaseX = np.argmax(histogram[midPoint:]) + midPoint\n",
    "        \n",
    "        # Set height of windows\n",
    "        windowHeight = np.int(warped.shape[0]/numberOfWindows)\n",
    "        \n",
    "        # Current positions to be updated for each window\n",
    "        leftCurrentX = leftBaseX\n",
    "        rightCurrentX = rightBaseX\n",
    "        \n",
    "        # Step through the windows\n",
    "        for index in range(numberOfWindows):\n",
    "            \n",
    "            # Identify window boundaries in x and y (and right and left)\n",
    "            lowY = warped.shape[0] - (index+1) * windowHeight\n",
    "            highY = warped.shape[0] - index * windowHeight\n",
    "            leftLowX = leftCurrentX - windowMargin\n",
    "            leftHighX = leftCurrentX + windowMargin\n",
    "            rightLowX = rightCurrentX - windowMargin\n",
    "            rightHighX = rightCurrentX + windowMargin\n",
    "            \n",
    "            # Identify the nonzero pixels in x and y within the window\n",
    "            leftNonzeroIndices = nonzeroIndices(leftLowX, leftHighX, lowY, highY, nonzeroX, nonzeroY)\n",
    "            rightNonzeroIndices = nonzeroIndices(rightLowX, rightHighX, lowY, highY, nonzeroX, nonzeroY)\n",
    "            \n",
    "            # Append these indices to the lists\n",
    "            leftLaneIndices.extend(leftNonzeroIndices)\n",
    "            rightLaneIndices.extend(rightNonzeroIndices)\n",
    "            \n",
    "            # If minPixels < pixels are found, recenter next window on their mean position\n",
    "            if minPixels < len(leftNonzeroIndices):\n",
    "                leftCurrentX = np.int(np.mean(nonzeroX[leftNonzeroIndices]))\n",
    "                \n",
    "            if minPixels < len(rightNonzeroIndices):\n",
    "                rightCurrentX = np.int(np.mean(nonzeroX[rightNonzeroIndices]))\n",
    "        \n",
    "        needsFullScan(False)\n",
    "        \n",
    "    # In case the full scan is done and the previous fits and measurements are available\n",
    "    else:\n",
    "        # Get indices around the plynomials given the margin \n",
    "        # leveraging the second order polynomials of the previous frame\n",
    "        leftLaneIndices,rightLaneIndices = laneIndices(fitted, nonzeroX, nonzeroY, windowMargin)\n",
    "        \n",
    "    # Extract left and right line pixel positions\n",
    "    leftX = nonzeroX[leftLaneIndices]\n",
    "    leftY = nonzeroY[leftLaneIndices]\n",
    "    rightX = nonzeroX[rightLaneIndices]\n",
    "    rightY = nonzeroY[rightLaneIndices]\n",
    "        \n",
    "    # Fit a second order polynomial\n",
    "    leftFit = np.polyfit(leftY, leftX, 2)\n",
    "    rightFit = np.polyfit(rightY, rightX, 2)\n",
    "\n",
    "    # Generate y values for plotting\n",
    "    plotY = np.linspace(0, warped.shape[0]-1, warped.shape[0])\n",
    "    \n",
    "    # Measure curvature first    \n",
    "    leftCurveRadius, rightCurveRadius, position = measureCarvature(leftX, leftY, rightX, rightY, plotY)    \n",
    "\n",
    "    # Validate fits and curve radii\n",
    "    if validated(leftFit, rightFit, leftCurveRadius, rightCurveRadius):\n",
    "        print('validated')\n",
    "        fitted(leftFit, rightFit, leftX, leftY, rightX, rightY)\n",
    "        measured(leftCurveRadius, rightCurveRadius, position)\n",
    "    \n",
    "    print(validated.bad)\n",
    "    print(needsFullScan.yes)\n",
    "    #print(fitted.leftFit)\n",
    "    #print(fitted.rightFit)\n",
    "    \n",
    "    # Generate x values for plotting\n",
    "    #leftFitX, rightFitX = laneFits(fitted, plotY)\n",
    "    leftFitX = polynomial(fitted.leftFit, plotY)\n",
    "    rightFitX = polynomial(fitted.rightFit, plotY)\n",
    "    \n",
    "    leftX = fitted.leftX\n",
    "    leftY = fitted.leftY\n",
    "    rightX = fitted.rightX\n",
    "    rightY = fitted.rightY\n",
    "    \n",
    "    leftCurveRadius = measured.leftCurveRadius\n",
    "    rightCurveRadius = measured.rightCurveRadius\n",
    "    position = measured.position\n",
    "    \n",
    "    # If a full scan needs for the next frame, \n",
    "    # clear the precious fits and measurements to forcefully use the scanned data\n",
    "    '''\n",
    "    if needsFullScan.yes:\n",
    "        fitted.leftFit = []\n",
    "        fitted.rightFit = []\n",
    "        measured.leftCurveRadius = 0\n",
    "        measured.rightCurveRadius = 0\n",
    "        measured.position = 0\n",
    "    '''\n",
    "    # Start drawing the image from here\n",
    "    output = np.dstack((warped, warped, warped))*255    \n",
    "    windowImage = np.zeros_like(output)\n",
    "    \n",
    "    # Color in left and right line pixels\n",
    "    output[leftY, leftX] = [255, 0, 0]\n",
    "    output[rightY, rightX] = [0, 0, 255]\n",
    "    \n",
    "    # Generate a polygon to illustrate the search window area\n",
    "    # Then, recast the x and y points into usable format for cv2.fillPoly()\n",
    "    leftLineWindow1 = np.array([np.transpose(np.vstack([leftFitX - windowMargin, plotY]))])\n",
    "    leftLineWindow2 = np.array([np.flipud(np.transpose(np.vstack([leftFitX + windowMargin, plotY])))])\n",
    "    leftLinePoints = np.hstack((leftLineWindow1, leftLineWindow2))\n",
    "    \n",
    "    rightLineWindow1 = np.array([np.transpose(np.vstack([rightFitX - windowMargin, plotY]))])\n",
    "    rightLineWindow2 = np.array([np.flipud(np.transpose(np.vstack([rightFitX + windowMargin, plotY])))])\n",
    "    rightLinePoints = np.hstack((rightLineWindow1, rightLineWindow2))\n",
    "    \n",
    "    # Draw the lanes\n",
    "    cv2.fillPoly(windowImage, np.int_([leftLinePoints]), (0, 255, 0))\n",
    "    cv2.fillPoly(windowImage, np.int_([rightLinePoints]), (0, 255, 0))\n",
    "    lanes = cv2.addWeighted(output, 1, windowImage, 0.3, 0)\n",
    "    \n",
    "    return lanes, leftFitX, rightFitX, plotY, leftCurveRadius, rightCurveRadius, position"
   ]
  },
  {
   "cell_type": "markdown",
   "metadata": {
    "deletable": true,
    "editable": true
   },
   "source": [
    "### Step 4 Test\n",
    "\n",
    "* Lane detection using the sliding window\n"
   ]
  },
  {
   "cell_type": "code",
   "execution_count": null,
   "metadata": {
    "collapsed": false,
    "deletable": true,
    "editable": true,
    "scrolled": false
   },
   "outputs": [],
   "source": [
    "# Initialization\n",
    "fitted.leftFit = []\n",
    "fitted.rightFit = []\n",
    "measured.leftCurveRadius = 0\n",
    "measured.rightCurveRadius = 0\n",
    "measured.position = 0\n",
    "needsFullScan.yes = True\n",
    "validated.bad = 0\n",
    "\n",
    "lanes, leftFitX, rightFitX, plotY, leftCurveRadius, rightCurveRadius, position = findLanes(warped)\n",
    "\n",
    "fig, ax = plt.subplots(1, 1, figsize=(10, 5))\n",
    "ax.imshow(lanes)\n",
    "ax.set_title('Detected lanes and polynomials', fontsize=20)\n",
    "ax.plot(leftFitX, plotY, color='yellow')\n",
    "ax.plot(rightFitX, plotY, color='yellow')\n",
    "ax.text(350, 50,'%.2f m, %.2f m' % (leftCurveRadius, rightCurveRadius), color='yellow', fontsize=20)\n",
    "ax.text(500, 700, '%.2f cm' % (position * 100), color='yellow', fontsize=20)\n",
    "\n",
    "fig.savefig(os.path.join(OUTPUT_IMAGE_DIR, 'lanes_polynomials.jpg'))"
   ]
  },
  {
   "cell_type": "markdown",
   "metadata": {
    "deletable": true,
    "editable": true
   },
   "source": [
    "## Step 5\n",
    "\n",
    "* Warp the detected lane boundaries back onto the original image.\n",
    "* Output visual display of the lane boundaries and numerical estimation of lane curvature and vehicle position.\n",
    "\n",
    "### Step 5 Functions\n"
   ]
  },
  {
   "cell_type": "code",
   "execution_count": null,
   "metadata": {
    "collapsed": true,
    "deletable": true,
    "editable": true
   },
   "outputs": [],
   "source": [
    "def projectLanes(originalImage, undistorted, warped, inversePerspective, leftFitX, rightFitX, plotY):\n",
    "    '''\n",
    "    Create the original image with the lane boundaries\n",
    "    '''\n",
    "    zeroWarp = np.zeros_like(warped).astype(np.uint8)\n",
    "    colorWarp = np.dstack((zeroWarp, zeroWarp, zeroWarp))\n",
    "\n",
    "    # Recast the x and y points into usable format for cv2.fillPoly()\n",
    "    leftPoints = np.array([np.transpose(np.vstack([leftFitX, plotY]))])\n",
    "    rightPoints = np.array([np.flipud(np.transpose(np.vstack([rightFitX, plotY])))])\n",
    "    points = np.hstack((leftPoints, rightPoints))\n",
    "\n",
    "    # Draw the lane onto the warped blank image\n",
    "    cv2.fillPoly(colorWarp, np.int_([points]), (0, 255, 0))\n",
    "\n",
    "    # Warp the blank back to original image space using inverse perspective matrix\n",
    "    # Combine the result with the original image\n",
    "    backed = cv2.warpPerspective(colorWarp, inversePerspective, (originalImage.shape[1], originalImage.shape[0]))\n",
    "    return cv2.addWeighted(undistorted, 1, backed, 0.3, 0)"
   ]
  },
  {
   "cell_type": "markdown",
   "metadata": {
    "deletable": true,
    "editable": true
   },
   "source": [
    "### Step 5 Test\n",
    "\n",
    "* Creation of the original image with the lane boundaries\n"
   ]
  },
  {
   "cell_type": "code",
   "execution_count": null,
   "metadata": {
    "collapsed": false,
    "deletable": true,
    "editable": true
   },
   "outputs": [],
   "source": [
    "projected = projectLanes(image, undistorted, warped, inversePerspective, leftFitX, rightFitX, plotY)\n",
    "\n",
    "fig, ax = plt.subplots(1, 1, figsize=(10, 5))\n",
    "ax.imshow(projected)\n",
    "ax.set_title('Projected lane boundaries', fontsize=20)\n",
    "\n",
    "fig.savefig(os.path.join(OUTPUT_IMAGE_DIR, 'projected.jpg'))"
   ]
  },
  {
   "cell_type": "markdown",
   "metadata": {
    "deletable": true,
    "editable": true
   },
   "source": [
    "## Pipeline to process a video\n"
   ]
  },
  {
   "cell_type": "code",
   "execution_count": null,
   "metadata": {
    "collapsed": true,
    "deletable": true,
    "editable": true
   },
   "outputs": [],
   "source": [
    "fitted.leftFit = []\n",
    "fitted.rightFit = []\n",
    "measured.leftCurveRadius = 0\n",
    "measured.rightCurveRadius = 0\n",
    "measured.position = 0\n",
    "needsFullScan.yes = True\n",
    "validated.bad = 0\n",
    "\n",
    "font = cv2.FONT_HERSHEY_COMPLEX\n",
    "fontSize = 1\n",
    "color = (255, 255, 255)\n",
    "thickness = 2\n",
    "\n",
    "def pipeline(image):\n",
    "    '''\n",
    "    Process each frame of a video to map lane boundaries\n",
    "    '''\n",
    "    undistorted = undistort(image, objPoints, imagePoints)\n",
    "    combinedBinary, colorBinary = thresholdColorGradient(undistorted)\n",
    "    warped, inversePerspective = warp(combinedBinary)\n",
    "    lanes, leftFitX, rightFitX, plotY, leftCurveRadius, rightCurveRadius, position = findLanes(warped)\n",
    "    projected = projectLanes(image, undistorted, warped, inversePerspective, leftFitX, rightFitX, plotY)\n",
    "    \n",
    "    cv2.putText(projected,'Radius of curvature = L %.2f m, R %.2f m' % (leftCurveRadius, rightCurveRadius), (100, 50), font, fontSize, color, thickness)\n",
    "    cv2.putText(projected, 'Vehicle position = %.2f cm from center' % (position * 100), (100, 100), font, fontSize, color, thickness)\n",
    "    \n",
    "    return projected"
   ]
  },
  {
   "cell_type": "code",
   "execution_count": null,
   "metadata": {
    "collapsed": true,
    "deletable": true,
    "editable": true
   },
   "outputs": [],
   "source": [
    "from moviepy.editor import VideoFileClip\n",
    "from IPython.display import HTML"
   ]
  },
  {
   "cell_type": "code",
   "execution_count": null,
   "metadata": {
    "collapsed": false,
    "deletable": true,
    "editable": true,
    "scrolled": false
   },
   "outputs": [],
   "source": [
    "projectOutput = 'project.mp4'\n",
    "clipProject = VideoFileClip(\"project_video.mp4\")\n",
    "projectClip = clipProject.fl_image(pipeline)\n",
    "%time projectClip.write_videofile(projectOutput, audio=False)"
   ]
  },
  {
   "cell_type": "code",
   "execution_count": null,
   "metadata": {
    "collapsed": false,
    "deletable": true,
    "editable": true,
    "scrolled": false
   },
   "outputs": [],
   "source": [
    "HTML(\"\"\"\n",
    "<video width=\"960\" height=\"540\" controls>\n",
    "  <source src=\"{0}\">\n",
    "</video>\n",
    "\"\"\".format(projectOutput))"
   ]
  }
 ],
 "metadata": {
  "kernelspec": {
   "display_name": "Python 3",
   "language": "python",
   "name": "python3"
  },
  "language_info": {
   "codemirror_mode": {
    "name": "ipython",
    "version": 3
   },
   "file_extension": ".py",
   "mimetype": "text/x-python",
   "name": "python",
   "nbconvert_exporter": "python",
   "pygments_lexer": "ipython3",
   "version": "3.5.2"
  },
  "widgets": {
   "state": {},
   "version": "1.1.2"
  }
 },
 "nbformat": 4,
 "nbformat_minor": 2
}
