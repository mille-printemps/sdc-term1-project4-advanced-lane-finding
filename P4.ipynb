{
 "cells": [
  {
   "cell_type": "code",
   "execution_count": null,
   "metadata": {
    "collapsed": true,
    "deletable": true,
    "editable": true
   },
   "outputs": [],
   "source": [
    "import cv2\n",
    "import glob\n",
    "import numpy as np\n",
    "import matplotlib.pyplot as plt\n",
    "import matplotlib.image as mpimg\n",
    "%matplotlib inline\n",
    "\n",
    "NX = 9\n",
    "NY = 6\n",
    "OFFSET = 0"
   ]
  },
  {
   "cell_type": "code",
   "execution_count": null,
   "metadata": {
    "collapsed": true,
    "deletable": true,
    "editable": true
   },
   "outputs": [],
   "source": [
    "def collectCorners(imageFiles, nx, ny):\n",
    "    '''\n",
    "    '''\n",
    "    objPoints = []\n",
    "    imagePoints = []\n",
    "\n",
    "    objPoint = np.zeros((ny*nx,3), np.float32)\n",
    "    objPoint[:,:2] = np.mgrid[0:nx, 0:ny].T.reshape(-1,2)\n",
    "    \n",
    "    for imageFile in imageFiles:\n",
    "        image = cv2.imread(imageFile)\n",
    "        gray = cv2.cvtColor(image, cv2.COLOR_BGR2GRAY)\n",
    "        ret, corners = cv2.findChessboardCorners(gray, (nx,ny), None)\n",
    "        if ret == True:\n",
    "            objPoints.append(objPoint)\n",
    "            imagePoints.append(corners)\n",
    "            \n",
    "    return objPoints,imagePoints\n",
    "\n",
    "def undistort(image, objPoints, imagePoints):\n",
    "    '''\n",
    "    '''\n",
    "    ret, mtx, dist, rvecs, tvecs = cv2.calibrateCamera(objPoints, imagePoints, (image.shape[1], image.shape[0]), None, None)\n",
    "    return cv2.undistort(image, mtx, dist, None, mtx)"
   ]
  },
  {
   "cell_type": "code",
   "execution_count": null,
   "metadata": {
    "collapsed": false,
    "deletable": true,
    "editable": true
   },
   "outputs": [],
   "source": [
    "imageFiles = glob.glob('camera_cal/*.jpg')\n",
    "objPoints,imagePoints = collectCorners(imageFiles, NX, NY)\n",
    "\n",
    "image = cv2.imread('test_images/test4.jpg')\n",
    "undistorted = undistort(image, objPoints, imagePoints)\n",
    "\n",
    "f, (ax1, ax2) = plt.subplots(1, 2, figsize=(20, 10))\n",
    "f.tight_layout()\n",
    "ax1.imshow(image, cmap='gray')\n",
    "ax1.set_title('Original Image', fontsize=20)\n",
    "ax2.imshow(undistorted, cmap='gray')\n",
    "ax2.set_title('Undistorted Image', fontsize=20)"
   ]
  },
  {
   "cell_type": "code",
   "execution_count": null,
   "metadata": {
    "collapsed": true,
    "deletable": true,
    "editable": true
   },
   "outputs": [],
   "source": [
    "def thresholdColorGradient(undistorted, sThreshold=(130,255), xThreshold=(15,100)):\n",
    "    '''\n",
    "    '''\n",
    "    \n",
    "    # Convert to HLS color space and separate the S channel\n",
    "    hls = cv2.cvtColor(undistorted, cv2.COLOR_RGB2HLS).astype(np.float)\n",
    "    lChannel = hls[:,:,1]\n",
    "    sChannel = hls[:,:,2]\n",
    "\n",
    "    # Sobel x\n",
    "    # Take the derivative in x\n",
    "    # Absolute x derivative to accentuate lines away from horizontal\n",
    "    sobelX = cv2.Sobel(lChannel, cv2.CV_64F, 1, 0)\n",
    "    absSobelX = np.absolute(sobelX)\n",
    "    xSobel = np.uint8(255*absSobelX/np.max(absSobelX))\n",
    "\n",
    "    # Threshold x gradient\n",
    "    xBinary = np.zeros_like(xSobel)\n",
    "    xBinary[(xThreshold[0] <= xSobel) & (xSobel <= xThreshold[1])] = 1\n",
    "\n",
    "    # Threshold color channel\n",
    "    sBinary = np.zeros_like(sChannel)\n",
    "    sBinary[(sThreshold[0] <= sChannel) & (sChannel <= sThreshold[1])] = 1\n",
    "\n",
    "    # Stack each channel to view their individual contributions in green and blue respectively\n",
    "    colorBinary = np.dstack((np.zeros_like(xBinary), xBinary, sBinary))\n",
    "\n",
    "    # Combine the two binary thresholds\n",
    "    combinedBinary = np.zeros_like(xBinary)\n",
    "    combinedBinary[(sBinary == 1) | (xBinary == 1)] = 1\n",
    "\n",
    "    return colorBinary,combinedBinary"
   ]
  },
  {
   "cell_type": "code",
   "execution_count": null,
   "metadata": {
    "collapsed": false,
    "deletable": true,
    "editable": true
   },
   "outputs": [],
   "source": [
    "colorBinary,combinedBinary = thresholdColorGradient(undistorted)\n",
    "\n",
    "f, (ax1, ax2) = plt.subplots(1, 2, figsize=(20,10))\n",
    "ax1.set_title('Stacked thresholds', fontsize=20)\n",
    "ax1.imshow(colorBinary)\n",
    "\n",
    "ax2.set_title('Combined S channel and gradient thresholds', fontsize=20)\n",
    "ax2.imshow(combinedBinary, cmap='gray')"
   ]
  },
  {
   "cell_type": "code",
   "execution_count": null,
   "metadata": {
    "collapsed": false,
    "scrolled": false
   },
   "outputs": [],
   "source": [
    "imageSize = (combinedBinary.shape[1], combinedBinary.shape[0]) \n",
    "\n",
    "upperLeft = [570, 450]\n",
    "upperRight = [750, 450]\n",
    "lowerRight = [imageSize[0], imageSize[1]]\n",
    "lowerLeft = [0, imageSize[1]]\n",
    "\n",
    "plt.imshow(combinedBinary, cmap='gray')\n",
    "plt.plot(upperLeft[0],upperLeft[1],\".\")\n",
    "plt.plot(upperRight[0],upperRight[1],\".\")\n",
    "plt.plot(lowerRight[0], lowerRight[1], \".\")\n",
    "plt.plot(lowerLeft[0], lowerRight[1], \".\")"
   ]
  },
  {
   "cell_type": "code",
   "execution_count": null,
   "metadata": {
    "collapsed": false,
    "deletable": true,
    "editable": true
   },
   "outputs": [],
   "source": [
    "def warp(undistorted, offset=OFFSET):\n",
    "    '''\n",
    "    '''\n",
    "    imageSize = (undistorted.shape[1], undistorted.shape[0]) \n",
    "    \n",
    "    srcRegion = [upperLeft,\n",
    "                 upperRight,\n",
    "                 lowerRight,\n",
    "                 lowerLeft]\n",
    "    \n",
    "    dstRegion = [[offset, offset],\n",
    "                 [imageSize[0]-offset, offset], \n",
    "                 [imageSize[0]-offset, imageSize[1]-offset], \n",
    "                 [offset, imageSize[1]-offset]]\n",
    "    \n",
    "    # Choose some points to be a nice fit for displaying the warped result for destination points    \n",
    "    src = np.float32(srcRegion)\n",
    "    dst = np.float32(dstRegion)\n",
    "    \n",
    "    # Calculate the perspective transform matrix given src and dst points, and\n",
    "    # Warp the image using OpenCV warpPerspective()\n",
    "    perspective = cv2.getPerspectiveTransform(src, dst)\n",
    "    warped = cv2.warpPerspective(undistorted, perspective, imageSize, flags=cv2.INTER_LINEAR)\n",
    "    \n",
    "    return warped"
   ]
  },
  {
   "cell_type": "code",
   "execution_count": null,
   "metadata": {
    "collapsed": false,
    "deletable": true,
    "editable": true
   },
   "outputs": [],
   "source": [
    "warped = warp(combinedBinary)\n",
    "\n",
    "f, (ax1, ax2) = plt.subplots(1, 2, figsize=(20, 10))\n",
    "f.tight_layout()\n",
    "ax1.imshow(combinedBinary, cmap='gray')\n",
    "ax1.set_title('Original Image', fontsize=20)\n",
    "ax2.imshow(warped, cmap='gray')\n",
    "ax2.set_title('Undistorted and Warped Image', fontsize=20)\n",
    "plt.subplots_adjust(left=0., right=1, top=0.9, bottom=0.)"
   ]
  },
  {
   "cell_type": "code",
   "execution_count": null,
   "metadata": {
    "collapsed": false,
    "scrolled": true
   },
   "outputs": [],
   "source": [
    "histogram = np.sum(warped[warped.shape[0]//2:,:], axis=0)\n",
    "plt.plot(histogram)"
   ]
  },
  {
   "cell_type": "code",
   "execution_count": null,
   "metadata": {
    "collapsed": false
   },
   "outputs": [],
   "source": [
    "def findLanes(warped, numberOfWindows=9, windowMargin=100, minPixels=50):\n",
    "    # Assuming you have created a warped binary image called \"binary_warped\"\n",
    "    # Take a histogram of the bottom half of the image\n",
    "    histogram = np.sum(warped[warped.shape[0]//2:,:], axis=0)\n",
    "    \n",
    "    # Create an output image to draw on and  visualize the result\n",
    "    output = np.dstack((warped, warped, warped))*255\n",
    "\n",
    "    # Find the peak of the left and right halves of the histogram\n",
    "    # These will be the starting point for the left and right lines\n",
    "    midPoint = np.int(histogram.shape[0]/2)\n",
    "    leftBaseX = np.argmax(histogram[:midPoint])\n",
    "    rightBaseX = np.argmax(histogram[midPoint:]) + midPoint\n",
    "\n",
    "    # Set height of windows\n",
    "    windowHeight = np.int(warped.shape[0]/numberOfWindows)\n",
    "\n",
    "    # Identify the x and y positions of all nonzero pixels in the image\n",
    "    nonzero = warped.nonzero()\n",
    "    nonzeroY = np.array(nonzero[0])\n",
    "    nonzeroX = np.array(nonzero[1])\n",
    "\n",
    "    # Current positions to be updated for each window\n",
    "    leftCurrentX = leftBaseX\n",
    "    rightCurrentX = rightBaseX\n",
    "\n",
    "    # Create empty lists to receive left and right lane pixel indices\n",
    "    leftLaneIndices = []\n",
    "    rightLaneIndices = []\n",
    "\n",
    "    # Step through the windows one by one\n",
    "    for index in range(numberOfWindows):\n",
    "        # Identify window boundaries in x and y (and right and left)\n",
    "        lowY = warped.shape[0] - (index+1) * windowHeight\n",
    "        highY = warped.shape[0] - index * windowHeight\n",
    "        leftLowX = leftCurrentX - windowMargin\n",
    "        leftHighX = leftCurrentX + windowMargin\n",
    "        rightLowX = rightCurrentX - windowMargin\n",
    "        rightHighX = rightCurrentX + windowMargin\n",
    "        \n",
    "        # Identify the nonzero pixels in x and y within the window\n",
    "        def nonzeroIndices(lowX, highX, lowY, highY, nonzeroX, nonzeroY):\n",
    "            return ((lowY <= nonzeroY) & (nonzeroY < highY) & (lowX <= nonzeroX) & (nonzeroX < highX)).nonzero()[0]\n",
    "            \n",
    "        leftNonzeroIndices = nonzeroIndices(leftLowX, leftHighX, lowY, highY, nonzeroX, nonzeroY)\n",
    "        rightNonzeroIndices = nonzeroIndices(rightLowX, rightHighX, lowY, highY, nonzeroX, nonzeroY)\n",
    "        \n",
    "        # Append these indices to the lists\n",
    "        leftLaneIndices.append(leftNonzeroIndices)\n",
    "        rightLaneIndices.append(rightNonzeroIndices)\n",
    "        \n",
    "        # If you found > minPixels pixels, recenter next window on their mean position\n",
    "        if minPixels < len(leftNonzeroIndices):\n",
    "            leftCurrentX = np.int(np.mean(nonzeroX[leftNonzeroIndices]))\n",
    "            \n",
    "        if minPixels < len(rightNonzeroIndices):\n",
    "            rightCurrentX = np.int(np.mean(nonzeroX[rightNonzeroIndices]))\n",
    "\n",
    "    # Concatenate the arrays of indices\n",
    "    leftLaneIndices = np.concatenate(leftLaneIndices)\n",
    "    rightLaneIndices = np.concatenate(rightLaneIndices)\n",
    "    \n",
    "    # Extract left and right line pixel positions\n",
    "    leftX = nonzeroX[leftLaneIndices]\n",
    "    leftY = nonzeroY[leftLaneIndices]\n",
    "    rightX = nonzeroX[rightLaneIndices]\n",
    "    rightY = nonzeroY[rightLaneIndices]\n",
    "    \n",
    "    # Fit a second order polynomial to each\n",
    "    leftFit = np.polyfit(leftY, leftX, 2)\n",
    "    rightFit = np.polyfit(rightY, rightX, 2)\n",
    "    \n",
    "    ###\n",
    "    \n",
    "    def laneIndices(fit, nonzeroX, nonzeroY, margin):\n",
    "        return (((fit[0]*(nonzeroY**2) + fit[1]*nonzeroY + fit[2] - margin) < nonzeroX) &\n",
    "                (nonzeroX < (fit[0]*(nonzeroY**2) + fit[1]*nonzeroY + fit[2] + margin))) \n",
    "    \n",
    "    leftLaneIndices = laneIndices(leftFit, nonzeroX, nonzeroY, windowMargin)\n",
    "    rightLaneIndices = laneIndices(rightFit, nonzeroX, nonzeroY, windowMargin)\n",
    "    \n",
    "    # Again, extract left and right line pixel positions\n",
    "    leftX = nonzeroX[leftLaneIndices]\n",
    "    leftY = nonzeroY[leftLaneIndices]\n",
    "    rightX = nonzeroX[rightLaneIndices]\n",
    "    rightY = nonzeroY[rightLaneIndices]\n",
    "    \n",
    "    # Fit a second order polynomial to each\n",
    "    leftFit = np.polyfit(leftY, leftX, 2)\n",
    "    rightFit = np.polyfit(rightY, rightX, 2)\n",
    "    \n",
    "    # Generate x and y values for plotting\n",
    "    plotY = np.linspace(0, warped.shape[0]-1, warped.shape[0] )\n",
    "    leftFitX = leftFit[0] * plotY**2 + leftFit[1] * plotY + leftFit[2]\n",
    "    rightFitX = rightFit[0] * plotY**2 + rightFit[1] * plotY + rightFit[2]\n",
    "    \n",
    "    # Draw the image\n",
    "    windowImage = np.zeros_like(output)\n",
    "    \n",
    "    # Color in left and right line pixels\n",
    "    output[nonzeroY[leftLaneIndices], nonzeroX[leftLaneIndices]] = [255, 0, 0]\n",
    "    output[nonzeroY[rightLaneIndices], nonzeroX[rightLaneIndices]] = [0, 0, 255]\n",
    "    \n",
    "    # Generate a polygon to illustrate the search window area\n",
    "    # And recast the x and y points into usable format for cv2.fillPoly()\n",
    "    leftLineWindow1 = np.array([np.transpose(np.vstack([leftFitX - windowMargin, plotY]))])\n",
    "    leftLineWindow2 = np.array([np.flipud(np.transpose(np.vstack([leftFitX + windowMargin, plotY])))])\n",
    "    leftLinePoints = np.hstack((leftLineWindow1, leftLineWindow2))\n",
    "    \n",
    "    rightLineWindow1 = np.array([np.transpose(np.vstack([rightFitX - windowMargin, plotY]))])\n",
    "    rightLineWindow2 = np.array([np.flipud(np.transpose(np.vstack([rightFitX + windowMargin, plotY])))])\n",
    "    rightLinePoints = np.hstack((rightLineWindow1, rightLineWindow2))\n",
    "    \n",
    "    # Draw the lane onto the warped blank image\n",
    "    cv2.fillPoly(windowImage, np.int_([leftLinePoints]), (0,255, 0))\n",
    "    cv2.fillPoly(windowImage, np.int_([rightLinePoints]), (0,255, 0))\n",
    "    lanes = cv2.addWeighted(output, 1, windowImage, 0.3, 0)\n",
    "    \n",
    "    return lanes,leftFitX,rightFitX,plotY"
   ]
  },
  {
   "cell_type": "code",
   "execution_count": null,
   "metadata": {
    "collapsed": false,
    "scrolled": true
   },
   "outputs": [],
   "source": [
    "lanes,leftFitX,rightFitX,plotY = findLanes(warped)\n",
    "\n",
    "plt.imshow(lanes)\n",
    "plt.plot(leftFitX, plotY, color='yellow')\n",
    "plt.plot(rightFitX, plotY, color='yellow')\n",
    "plt.xlim(0, 1280)\n",
    "plt.ylim(720, 0)"
   ]
  },
  {
   "cell_type": "code",
   "execution_count": null,
   "metadata": {
    "collapsed": true
   },
   "outputs": [],
   "source": [
    "def measureCarvature(leftFitX, rightFitX, plotY):\n",
    "    '''\n",
    "    '''\n",
    "    def curveRadius(fit, yValue, yMeterPerPixels):\n",
    "        return ((1 + (2 * fit[0] * yValue * yMeterPerPixels + fit[1])**2)**1.5) / np.absolute(2 * fit[0])\n",
    "    \n",
    "    leftFitX = leftFitX[::-1]  # Reverse to match top-to-bottom in y\n",
    "    rightFitX = rightFitX[::-1]  # Reverse to match top-to-bottom in y\n",
    "\n",
    "    xMeterPerPixels = 3.7/700 # meters per pixel in x dimension    \n",
    "    yMeterPerPixels = 30/720 # meters per pixel in y dimension\n",
    "\n",
    "    # Fit new polynomials to x,y in world space\n",
    "    print(plotY.shape)\n",
    "    print(leftFitX.shape)\n",
    "    print(rightFitX.shape)\n",
    "    leftFit = np.polyfit(plotY * yMeterPerPixels, leftFitX * xMeterPerPixels, 2)\n",
    "    rightFit = np.polyfit(plotY * yMeterPerPixels, rightFitX * xMeterPerPixels, 2)\n",
    "    \n",
    "    # Calculate the new radii of curvature\n",
    "    yValue = np.max(plotY)    \n",
    "    leftCurveRadius = curveRadius(leftFit, yValue, yMeterPerPixels)\n",
    "    rightCurveRadius = curveRadius(rightFit, yValue, yMeterPerPixels)\n",
    "    \n",
    "    # Now our radius of curvature is in meters\n",
    "    return leftCurveRadius, rightCurveRadius"
   ]
  },
  {
   "cell_type": "code",
   "execution_count": null,
   "metadata": {
    "collapsed": false,
    "scrolled": false
   },
   "outputs": [],
   "source": [
    "leftCurveRadius,rightCurveRadius = measureCarvature(leftX, rightX, plotY)\n",
    "print(leftCurveRadius, 'm', rightCurveRadius, 'm')"
   ]
  }
 ],
 "metadata": {
  "kernelspec": {
   "display_name": "Python 3",
   "language": "python",
   "name": "python3"
  },
  "language_info": {
   "codemirror_mode": {
    "name": "ipython",
    "version": 3
   },
   "file_extension": ".py",
   "mimetype": "text/x-python",
   "name": "python",
   "nbconvert_exporter": "python",
   "pygments_lexer": "ipython3",
   "version": "3.5.2"
  },
  "widgets": {
   "state": {},
   "version": "1.1.2"
  }
 },
 "nbformat": 4,
 "nbformat_minor": 2
}
